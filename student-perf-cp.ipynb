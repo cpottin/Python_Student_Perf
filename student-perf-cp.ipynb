{
 "cells": [
  {
   "cell_type": "code",
   "execution_count": 1,
   "id": "ba9a5f37",
   "metadata": {
    "_cell_guid": "b1076dfc-b9ad-4769-8c92-a6c4dae69d19",
    "_uuid": "8f2839f25d086af736a60e9eeb907d3b93b6e0e5",
    "execution": {
     "iopub.execute_input": "2022-09-17T09:50:38.871118Z",
     "iopub.status.busy": "2022-09-17T09:50:38.870744Z",
     "iopub.status.idle": "2022-09-17T09:50:38.896656Z",
     "shell.execute_reply": "2022-09-17T09:50:38.895691Z"
    },
    "papermill": {
     "duration": 0.076492,
     "end_time": "2022-09-17T09:50:38.899526",
     "exception": false,
     "start_time": "2022-09-17T09:50:38.823034",
     "status": "completed"
    },
    "tags": []
   },
   "outputs": [
    {
     "name": "stdout",
     "output_type": "stream",
     "text": [
      "/kaggle/input/student-performance-data-set/student-por.csv\n"
     ]
    }
   ],
   "source": [
    "# This Python 3 environment comes with many helpful analytics libraries installed\n",
    "# It is defined by the kaggle/python Docker image: https://github.com/kaggle/docker-python\n",
    "# For example, here's several helpful packages to load\n",
    "\n",
    "import numpy as np # linear algebra\n",
    "import pandas as pd # data processing, CSV file I/O (e.g. pd.read_csv)\n",
    "\n",
    "# Input data files are available in the read-only \"../input/\" directory\n",
    "# For example, running this (by clicking run or pressing Shift+Enter) will list all files under the input directory\n",
    "\n",
    "import os\n",
    "for dirname, _, filenames in os.walk('/kaggle/input'):\n",
    "    for filename in filenames:\n",
    "        print(os.path.join(dirname, filename))\n",
    "\n",
    "# You can write up to 20GB to the current directory (/kaggle/working/) that gets preserved as output when you create a version using \"Save & Run All\" \n",
    "# You can also write temporary files to /kaggle/temp/, but they won't be saved outside of the current session"
   ]
  },
  {
   "cell_type": "code",
   "execution_count": 2,
   "id": "29f0891e",
   "metadata": {
    "execution": {
     "iopub.execute_input": "2022-09-17T09:50:38.988975Z",
     "iopub.status.busy": "2022-09-17T09:50:38.987952Z",
     "iopub.status.idle": "2022-09-17T09:50:38.992848Z",
     "shell.execute_reply": "2022-09-17T09:50:38.992045Z"
    },
    "papermill": {
     "duration": 0.05061,
     "end_time": "2022-09-17T09:50:38.995019",
     "exception": false,
     "start_time": "2022-09-17T09:50:38.944409",
     "status": "completed"
    },
    "tags": []
   },
   "outputs": [],
   "source": [
    "##Pysftp could be used to automate updated files after each term to update the analysis and maintain a real time snap shot of the students' performance, \n",
    "##so I included that here for future reference.\n",
    "##import pysftp\n",
    "\n",
    "##with pysftp.Connection('hostname', username='me', password='secret') as sftp:\n",
    "\n",
    "    ##with sftp.cd('/allcode'):           # temporarily chdir to allcode\n",
    "       ## sftp.put('/pycode/filename')  \t# upload file to allcode/pycode on remote\n",
    "       ## sftp.get('remote_file')         # get a remote file"
   ]
  },
  {
   "cell_type": "markdown",
   "id": "3b89ef00",
   "metadata": {
    "papermill": {
     "duration": 0.047404,
     "end_time": "2022-09-17T09:50:39.087930",
     "exception": false,
     "start_time": "2022-09-17T09:50:39.040526",
     "status": "completed"
    },
    "tags": []
   },
   "source": [
    " "
   ]
  },
  {
   "cell_type": "markdown",
   "id": "690edc58",
   "metadata": {
    "papermill": {
     "duration": 0.047595,
     "end_time": "2022-09-17T09:50:39.191538",
     "exception": false,
     "start_time": "2022-09-17T09:50:39.143943",
     "status": "completed"
    },
    "tags": []
   },
   "source": [
    "In this project, we will be exploring the Student Perfromance Data Set.\n",
    "\n",
    "The following hypothesises will be tested:\n",
    "\n",
    "Hypothesis: strong negative correlation between Absences and G3 score"
   ]
  },
  {
   "cell_type": "code",
   "execution_count": 3,
   "id": "f23c2357",
   "metadata": {
    "execution": {
     "iopub.execute_input": "2022-09-17T09:50:39.281631Z",
     "iopub.status.busy": "2022-09-17T09:50:39.281344Z",
     "iopub.status.idle": "2022-09-17T09:50:40.446363Z",
     "shell.execute_reply": "2022-09-17T09:50:40.445541Z"
    },
    "papermill": {
     "duration": 1.212688,
     "end_time": "2022-09-17T09:50:40.448975",
     "exception": false,
     "start_time": "2022-09-17T09:50:39.236287",
     "status": "completed"
    },
    "tags": []
   },
   "outputs": [
    {
     "data": {
      "text/html": [
       "<div>\n",
       "<style scoped>\n",
       "    .dataframe tbody tr th:only-of-type {\n",
       "        vertical-align: middle;\n",
       "    }\n",
       "\n",
       "    .dataframe tbody tr th {\n",
       "        vertical-align: top;\n",
       "    }\n",
       "\n",
       "    .dataframe thead th {\n",
       "        text-align: right;\n",
       "    }\n",
       "</style>\n",
       "<table border=\"1\" class=\"dataframe\">\n",
       "  <thead>\n",
       "    <tr style=\"text-align: right;\">\n",
       "      <th></th>\n",
       "      <th>school</th>\n",
       "      <th>sex</th>\n",
       "      <th>age</th>\n",
       "      <th>address</th>\n",
       "      <th>famsize</th>\n",
       "      <th>Pstatus</th>\n",
       "      <th>Medu</th>\n",
       "      <th>Fedu</th>\n",
       "      <th>Mjob</th>\n",
       "      <th>Fjob</th>\n",
       "      <th>...</th>\n",
       "      <th>famrel</th>\n",
       "      <th>freetime</th>\n",
       "      <th>goout</th>\n",
       "      <th>Dalc</th>\n",
       "      <th>Walc</th>\n",
       "      <th>health</th>\n",
       "      <th>absences</th>\n",
       "      <th>G1</th>\n",
       "      <th>G2</th>\n",
       "      <th>G3</th>\n",
       "    </tr>\n",
       "  </thead>\n",
       "  <tbody>\n",
       "    <tr>\n",
       "      <th>0</th>\n",
       "      <td>GP</td>\n",
       "      <td>F</td>\n",
       "      <td>18</td>\n",
       "      <td>U</td>\n",
       "      <td>GT3</td>\n",
       "      <td>A</td>\n",
       "      <td>4</td>\n",
       "      <td>4</td>\n",
       "      <td>at_home</td>\n",
       "      <td>teacher</td>\n",
       "      <td>...</td>\n",
       "      <td>4</td>\n",
       "      <td>3</td>\n",
       "      <td>4</td>\n",
       "      <td>1</td>\n",
       "      <td>1</td>\n",
       "      <td>3</td>\n",
       "      <td>4</td>\n",
       "      <td>0</td>\n",
       "      <td>11</td>\n",
       "      <td>11</td>\n",
       "    </tr>\n",
       "    <tr>\n",
       "      <th>1</th>\n",
       "      <td>GP</td>\n",
       "      <td>F</td>\n",
       "      <td>17</td>\n",
       "      <td>U</td>\n",
       "      <td>GT3</td>\n",
       "      <td>T</td>\n",
       "      <td>1</td>\n",
       "      <td>1</td>\n",
       "      <td>at_home</td>\n",
       "      <td>other</td>\n",
       "      <td>...</td>\n",
       "      <td>5</td>\n",
       "      <td>3</td>\n",
       "      <td>3</td>\n",
       "      <td>1</td>\n",
       "      <td>1</td>\n",
       "      <td>3</td>\n",
       "      <td>2</td>\n",
       "      <td>9</td>\n",
       "      <td>11</td>\n",
       "      <td>11</td>\n",
       "    </tr>\n",
       "    <tr>\n",
       "      <th>2</th>\n",
       "      <td>GP</td>\n",
       "      <td>F</td>\n",
       "      <td>15</td>\n",
       "      <td>U</td>\n",
       "      <td>LE3</td>\n",
       "      <td>T</td>\n",
       "      <td>1</td>\n",
       "      <td>1</td>\n",
       "      <td>at_home</td>\n",
       "      <td>other</td>\n",
       "      <td>...</td>\n",
       "      <td>4</td>\n",
       "      <td>3</td>\n",
       "      <td>2</td>\n",
       "      <td>2</td>\n",
       "      <td>3</td>\n",
       "      <td>3</td>\n",
       "      <td>6</td>\n",
       "      <td>12</td>\n",
       "      <td>13</td>\n",
       "      <td>12</td>\n",
       "    </tr>\n",
       "    <tr>\n",
       "      <th>3</th>\n",
       "      <td>GP</td>\n",
       "      <td>F</td>\n",
       "      <td>15</td>\n",
       "      <td>U</td>\n",
       "      <td>GT3</td>\n",
       "      <td>T</td>\n",
       "      <td>4</td>\n",
       "      <td>2</td>\n",
       "      <td>health</td>\n",
       "      <td>services</td>\n",
       "      <td>...</td>\n",
       "      <td>3</td>\n",
       "      <td>2</td>\n",
       "      <td>2</td>\n",
       "      <td>1</td>\n",
       "      <td>1</td>\n",
       "      <td>5</td>\n",
       "      <td>0</td>\n",
       "      <td>14</td>\n",
       "      <td>14</td>\n",
       "      <td>14</td>\n",
       "    </tr>\n",
       "    <tr>\n",
       "      <th>4</th>\n",
       "      <td>GP</td>\n",
       "      <td>F</td>\n",
       "      <td>16</td>\n",
       "      <td>U</td>\n",
       "      <td>GT3</td>\n",
       "      <td>T</td>\n",
       "      <td>3</td>\n",
       "      <td>3</td>\n",
       "      <td>other</td>\n",
       "      <td>other</td>\n",
       "      <td>...</td>\n",
       "      <td>4</td>\n",
       "      <td>3</td>\n",
       "      <td>2</td>\n",
       "      <td>1</td>\n",
       "      <td>2</td>\n",
       "      <td>5</td>\n",
       "      <td>0</td>\n",
       "      <td>11</td>\n",
       "      <td>13</td>\n",
       "      <td>13</td>\n",
       "    </tr>\n",
       "  </tbody>\n",
       "</table>\n",
       "<p>5 rows × 33 columns</p>\n",
       "</div>"
      ],
      "text/plain": [
       "  school sex  age address famsize Pstatus  Medu  Fedu     Mjob      Fjob  ...  \\\n",
       "0     GP   F   18       U     GT3       A     4     4  at_home   teacher  ...   \n",
       "1     GP   F   17       U     GT3       T     1     1  at_home     other  ...   \n",
       "2     GP   F   15       U     LE3       T     1     1  at_home     other  ...   \n",
       "3     GP   F   15       U     GT3       T     4     2   health  services  ...   \n",
       "4     GP   F   16       U     GT3       T     3     3    other     other  ...   \n",
       "\n",
       "  famrel freetime  goout  Dalc  Walc health absences  G1  G2  G3  \n",
       "0      4        3      4     1     1      3        4   0  11  11  \n",
       "1      5        3      3     1     1      3        2   9  11  11  \n",
       "2      4        3      2     2     3      3        6  12  13  12  \n",
       "3      3        2      2     1     1      5        0  14  14  14  \n",
       "4      4        3      2     1     2      5        0  11  13  13  \n",
       "\n",
       "[5 rows x 33 columns]"
      ]
     },
     "execution_count": 3,
     "metadata": {},
     "output_type": "execute_result"
    }
   ],
   "source": [
    "import matplotlib.pyplot as plt\n",
    "%matplotlib inline\n",
    "import csv\n",
    "import seaborn as sns\n",
    "import random\n",
    "\n",
    "##import data named students, dataframe\n",
    "students = pd.read_csv(\"/kaggle/input/student-performance-data-set/student-por.csv\")\n",
    "\n",
    "##print dataframe with headers\n",
    "students.head()\n"
   ]
  },
  {
   "cell_type": "code",
   "execution_count": 4,
   "id": "f6e89d9a",
   "metadata": {
    "execution": {
     "iopub.execute_input": "2022-09-17T09:50:40.540361Z",
     "iopub.status.busy": "2022-09-17T09:50:40.539770Z",
     "iopub.status.idle": "2022-09-17T09:50:40.549506Z",
     "shell.execute_reply": "2022-09-17T09:50:40.548405Z"
    },
    "papermill": {
     "duration": 0.059862,
     "end_time": "2022-09-17T09:50:40.552000",
     "exception": false,
     "start_time": "2022-09-17T09:50:40.492138",
     "status": "completed"
    },
    "tags": []
   },
   "outputs": [],
   "source": [
    "students['Internal Student ID'] = [ random.randint(1,10000)  for k in students.index]"
   ]
  },
  {
   "cell_type": "code",
   "execution_count": 5,
   "id": "718b105a",
   "metadata": {
    "execution": {
     "iopub.execute_input": "2022-09-17T09:50:40.640465Z",
     "iopub.status.busy": "2022-09-17T09:50:40.639844Z",
     "iopub.status.idle": "2022-09-17T09:50:40.644854Z",
     "shell.execute_reply": "2022-09-17T09:50:40.644275Z"
    },
    "papermill": {
     "duration": 0.05202,
     "end_time": "2022-09-17T09:50:40.646824",
     "exception": false,
     "start_time": "2022-09-17T09:50:40.594804",
     "status": "completed"
    },
    "tags": []
   },
   "outputs": [
    {
     "data": {
      "text/plain": [
       "(649, 34)"
      ]
     },
     "execution_count": 5,
     "metadata": {},
     "output_type": "execute_result"
    }
   ],
   "source": [
    "students.shape"
   ]
  },
  {
   "cell_type": "code",
   "execution_count": 6,
   "id": "80fff6c4",
   "metadata": {
    "execution": {
     "iopub.execute_input": "2022-09-17T09:50:40.735412Z",
     "iopub.status.busy": "2022-09-17T09:50:40.734834Z",
     "iopub.status.idle": "2022-09-17T09:50:40.758637Z",
     "shell.execute_reply": "2022-09-17T09:50:40.757669Z"
    },
    "papermill": {
     "duration": 0.071235,
     "end_time": "2022-09-17T09:50:40.761470",
     "exception": false,
     "start_time": "2022-09-17T09:50:40.690235",
     "status": "completed"
    },
    "tags": []
   },
   "outputs": [
    {
     "name": "stdout",
     "output_type": "stream",
     "text": [
      "<class 'pandas.core.frame.DataFrame'>\n",
      "RangeIndex: 649 entries, 0 to 648\n",
      "Data columns (total 34 columns):\n",
      " #   Column               Non-Null Count  Dtype \n",
      "---  ------               --------------  ----- \n",
      " 0   school               649 non-null    object\n",
      " 1   sex                  649 non-null    object\n",
      " 2   age                  649 non-null    int64 \n",
      " 3   address              649 non-null    object\n",
      " 4   famsize              649 non-null    object\n",
      " 5   Pstatus              649 non-null    object\n",
      " 6   Medu                 649 non-null    int64 \n",
      " 7   Fedu                 649 non-null    int64 \n",
      " 8   Mjob                 649 non-null    object\n",
      " 9   Fjob                 649 non-null    object\n",
      " 10  reason               649 non-null    object\n",
      " 11  guardian             649 non-null    object\n",
      " 12  traveltime           649 non-null    int64 \n",
      " 13  studytime            649 non-null    int64 \n",
      " 14  failures             649 non-null    int64 \n",
      " 15  schoolsup            649 non-null    object\n",
      " 16  famsup               649 non-null    object\n",
      " 17  paid                 649 non-null    object\n",
      " 18  activities           649 non-null    object\n",
      " 19  nursery              649 non-null    object\n",
      " 20  higher               649 non-null    object\n",
      " 21  internet             649 non-null    object\n",
      " 22  romantic             649 non-null    object\n",
      " 23  famrel               649 non-null    int64 \n",
      " 24  freetime             649 non-null    int64 \n",
      " 25  goout                649 non-null    int64 \n",
      " 26  Dalc                 649 non-null    int64 \n",
      " 27  Walc                 649 non-null    int64 \n",
      " 28  health               649 non-null    int64 \n",
      " 29  absences             649 non-null    int64 \n",
      " 30  G1                   649 non-null    int64 \n",
      " 31  G2                   649 non-null    int64 \n",
      " 32  G3                   649 non-null    int64 \n",
      " 33  Internal Student ID  649 non-null    int64 \n",
      "dtypes: int64(17), object(17)\n",
      "memory usage: 172.5+ KB\n"
     ]
    }
   ],
   "source": [
    "students.info()"
   ]
  },
  {
   "cell_type": "code",
   "execution_count": 7,
   "id": "8f279262",
   "metadata": {
    "execution": {
     "iopub.execute_input": "2022-09-17T09:50:40.852755Z",
     "iopub.status.busy": "2022-09-17T09:50:40.852434Z",
     "iopub.status.idle": "2022-09-17T09:50:40.873887Z",
     "shell.execute_reply": "2022-09-17T09:50:40.872914Z"
    },
    "papermill": {
     "duration": 0.071028,
     "end_time": "2022-09-17T09:50:40.876346",
     "exception": false,
     "start_time": "2022-09-17T09:50:40.805318",
     "status": "completed"
    },
    "tags": []
   },
   "outputs": [
    {
     "data": {
      "text/html": [
       "<div>\n",
       "<style scoped>\n",
       "    .dataframe tbody tr th:only-of-type {\n",
       "        vertical-align: middle;\n",
       "    }\n",
       "\n",
       "    .dataframe tbody tr th {\n",
       "        vertical-align: top;\n",
       "    }\n",
       "\n",
       "    .dataframe thead th {\n",
       "        text-align: right;\n",
       "    }\n",
       "</style>\n",
       "<table border=\"1\" class=\"dataframe\">\n",
       "  <thead>\n",
       "    <tr style=\"text-align: right;\">\n",
       "      <th></th>\n",
       "      <th>school</th>\n",
       "      <th>sex</th>\n",
       "      <th>age</th>\n",
       "      <th>address</th>\n",
       "      <th>famsize</th>\n",
       "      <th>Pstatus</th>\n",
       "      <th>Medu</th>\n",
       "      <th>Fedu</th>\n",
       "      <th>Mjob</th>\n",
       "      <th>Fjob</th>\n",
       "      <th>...</th>\n",
       "      <th>freetime</th>\n",
       "      <th>goout</th>\n",
       "      <th>Dalc</th>\n",
       "      <th>Walc</th>\n",
       "      <th>health</th>\n",
       "      <th>absences</th>\n",
       "      <th>G1</th>\n",
       "      <th>G2</th>\n",
       "      <th>G3</th>\n",
       "      <th>Internal Student ID</th>\n",
       "    </tr>\n",
       "  </thead>\n",
       "  <tbody>\n",
       "    <tr>\n",
       "      <th>0</th>\n",
       "      <td>GP</td>\n",
       "      <td>F</td>\n",
       "      <td>18</td>\n",
       "      <td>U</td>\n",
       "      <td>GT3</td>\n",
       "      <td>A</td>\n",
       "      <td>4</td>\n",
       "      <td>4</td>\n",
       "      <td>at_home</td>\n",
       "      <td>teacher</td>\n",
       "      <td>...</td>\n",
       "      <td>3</td>\n",
       "      <td>4</td>\n",
       "      <td>1</td>\n",
       "      <td>1</td>\n",
       "      <td>3</td>\n",
       "      <td>4</td>\n",
       "      <td>0</td>\n",
       "      <td>11</td>\n",
       "      <td>11</td>\n",
       "      <td>9711</td>\n",
       "    </tr>\n",
       "    <tr>\n",
       "      <th>1</th>\n",
       "      <td>GP</td>\n",
       "      <td>F</td>\n",
       "      <td>17</td>\n",
       "      <td>U</td>\n",
       "      <td>GT3</td>\n",
       "      <td>T</td>\n",
       "      <td>1</td>\n",
       "      <td>1</td>\n",
       "      <td>at_home</td>\n",
       "      <td>other</td>\n",
       "      <td>...</td>\n",
       "      <td>3</td>\n",
       "      <td>3</td>\n",
       "      <td>1</td>\n",
       "      <td>1</td>\n",
       "      <td>3</td>\n",
       "      <td>2</td>\n",
       "      <td>9</td>\n",
       "      <td>11</td>\n",
       "      <td>11</td>\n",
       "      <td>4340</td>\n",
       "    </tr>\n",
       "    <tr>\n",
       "      <th>2</th>\n",
       "      <td>GP</td>\n",
       "      <td>F</td>\n",
       "      <td>15</td>\n",
       "      <td>U</td>\n",
       "      <td>LE3</td>\n",
       "      <td>T</td>\n",
       "      <td>1</td>\n",
       "      <td>1</td>\n",
       "      <td>at_home</td>\n",
       "      <td>other</td>\n",
       "      <td>...</td>\n",
       "      <td>3</td>\n",
       "      <td>2</td>\n",
       "      <td>2</td>\n",
       "      <td>3</td>\n",
       "      <td>3</td>\n",
       "      <td>6</td>\n",
       "      <td>12</td>\n",
       "      <td>13</td>\n",
       "      <td>12</td>\n",
       "      <td>4433</td>\n",
       "    </tr>\n",
       "    <tr>\n",
       "      <th>3</th>\n",
       "      <td>GP</td>\n",
       "      <td>F</td>\n",
       "      <td>15</td>\n",
       "      <td>U</td>\n",
       "      <td>GT3</td>\n",
       "      <td>T</td>\n",
       "      <td>4</td>\n",
       "      <td>2</td>\n",
       "      <td>health</td>\n",
       "      <td>services</td>\n",
       "      <td>...</td>\n",
       "      <td>2</td>\n",
       "      <td>2</td>\n",
       "      <td>1</td>\n",
       "      <td>1</td>\n",
       "      <td>5</td>\n",
       "      <td>0</td>\n",
       "      <td>14</td>\n",
       "      <td>14</td>\n",
       "      <td>14</td>\n",
       "      <td>1332</td>\n",
       "    </tr>\n",
       "    <tr>\n",
       "      <th>4</th>\n",
       "      <td>GP</td>\n",
       "      <td>F</td>\n",
       "      <td>16</td>\n",
       "      <td>U</td>\n",
       "      <td>GT3</td>\n",
       "      <td>T</td>\n",
       "      <td>3</td>\n",
       "      <td>3</td>\n",
       "      <td>other</td>\n",
       "      <td>other</td>\n",
       "      <td>...</td>\n",
       "      <td>3</td>\n",
       "      <td>2</td>\n",
       "      <td>1</td>\n",
       "      <td>2</td>\n",
       "      <td>5</td>\n",
       "      <td>0</td>\n",
       "      <td>11</td>\n",
       "      <td>13</td>\n",
       "      <td>13</td>\n",
       "      <td>1269</td>\n",
       "    </tr>\n",
       "  </tbody>\n",
       "</table>\n",
       "<p>5 rows × 34 columns</p>\n",
       "</div>"
      ],
      "text/plain": [
       "  school sex  age address famsize Pstatus  Medu  Fedu     Mjob      Fjob  ...  \\\n",
       "0     GP   F   18       U     GT3       A     4     4  at_home   teacher  ...   \n",
       "1     GP   F   17       U     GT3       T     1     1  at_home     other  ...   \n",
       "2     GP   F   15       U     LE3       T     1     1  at_home     other  ...   \n",
       "3     GP   F   15       U     GT3       T     4     2   health  services  ...   \n",
       "4     GP   F   16       U     GT3       T     3     3    other     other  ...   \n",
       "\n",
       "  freetime goout  Dalc  Walc  health absences  G1  G2  G3 Internal Student ID  \n",
       "0        3     4     1     1       3        4   0  11  11                9711  \n",
       "1        3     3     1     1       3        2   9  11  11                4340  \n",
       "2        3     2     2     3       3        6  12  13  12                4433  \n",
       "3        2     2     1     1       5        0  14  14  14                1332  \n",
       "4        3     2     1     2       5        0  11  13  13                1269  \n",
       "\n",
       "[5 rows x 34 columns]"
      ]
     },
     "execution_count": 7,
     "metadata": {},
     "output_type": "execute_result"
    }
   ],
   "source": [
    "students.head()"
   ]
  },
  {
   "cell_type": "code",
   "execution_count": 8,
   "id": "8c24b3b7",
   "metadata": {
    "execution": {
     "iopub.execute_input": "2022-09-17T09:50:40.971288Z",
     "iopub.status.busy": "2022-09-17T09:50:40.970972Z",
     "iopub.status.idle": "2022-09-17T09:50:40.993515Z",
     "shell.execute_reply": "2022-09-17T09:50:40.992655Z"
    },
    "papermill": {
     "duration": 0.073694,
     "end_time": "2022-09-17T09:50:40.995661",
     "exception": false,
     "start_time": "2022-09-17T09:50:40.921967",
     "status": "completed"
    },
    "tags": []
   },
   "outputs": [
    {
     "data": {
      "text/html": [
       "<div>\n",
       "<style scoped>\n",
       "    .dataframe tbody tr th:only-of-type {\n",
       "        vertical-align: middle;\n",
       "    }\n",
       "\n",
       "    .dataframe tbody tr th {\n",
       "        vertical-align: top;\n",
       "    }\n",
       "\n",
       "    .dataframe thead th {\n",
       "        text-align: right;\n",
       "    }\n",
       "</style>\n",
       "<table border=\"1\" class=\"dataframe\">\n",
       "  <thead>\n",
       "    <tr style=\"text-align: right;\">\n",
       "      <th></th>\n",
       "      <th>school</th>\n",
       "      <th>sex</th>\n",
       "      <th>age</th>\n",
       "      <th>address</th>\n",
       "      <th>famsize</th>\n",
       "      <th>Pstatus</th>\n",
       "      <th>Medu</th>\n",
       "      <th>Fedu</th>\n",
       "      <th>Mjob</th>\n",
       "      <th>Fjob</th>\n",
       "      <th>...</th>\n",
       "      <th>freetime</th>\n",
       "      <th>goout</th>\n",
       "      <th>Dalc</th>\n",
       "      <th>Walc</th>\n",
       "      <th>health</th>\n",
       "      <th>absences</th>\n",
       "      <th>G1</th>\n",
       "      <th>G2</th>\n",
       "      <th>G3</th>\n",
       "      <th>Internal Student ID</th>\n",
       "    </tr>\n",
       "  </thead>\n",
       "  <tbody>\n",
       "    <tr>\n",
       "      <th>202</th>\n",
       "      <td>GP</td>\n",
       "      <td>F</td>\n",
       "      <td>17</td>\n",
       "      <td>U</td>\n",
       "      <td>GT3</td>\n",
       "      <td>A</td>\n",
       "      <td>3</td>\n",
       "      <td>3</td>\n",
       "      <td>health</td>\n",
       "      <td>other</td>\n",
       "      <td>...</td>\n",
       "      <td>3</td>\n",
       "      <td>3</td>\n",
       "      <td>1</td>\n",
       "      <td>3</td>\n",
       "      <td>3</td>\n",
       "      <td>10</td>\n",
       "      <td>12</td>\n",
       "      <td>13</td>\n",
       "      <td>14</td>\n",
       "      <td>6</td>\n",
       "    </tr>\n",
       "    <tr>\n",
       "      <th>135</th>\n",
       "      <td>GP</td>\n",
       "      <td>F</td>\n",
       "      <td>16</td>\n",
       "      <td>U</td>\n",
       "      <td>GT3</td>\n",
       "      <td>A</td>\n",
       "      <td>3</td>\n",
       "      <td>4</td>\n",
       "      <td>services</td>\n",
       "      <td>other</td>\n",
       "      <td>...</td>\n",
       "      <td>2</td>\n",
       "      <td>1</td>\n",
       "      <td>1</td>\n",
       "      <td>4</td>\n",
       "      <td>5</td>\n",
       "      <td>12</td>\n",
       "      <td>15</td>\n",
       "      <td>13</td>\n",
       "      <td>14</td>\n",
       "      <td>28</td>\n",
       "    </tr>\n",
       "    <tr>\n",
       "      <th>540</th>\n",
       "      <td>MS</td>\n",
       "      <td>F</td>\n",
       "      <td>17</td>\n",
       "      <td>U</td>\n",
       "      <td>GT3</td>\n",
       "      <td>T</td>\n",
       "      <td>3</td>\n",
       "      <td>2</td>\n",
       "      <td>at_home</td>\n",
       "      <td>other</td>\n",
       "      <td>...</td>\n",
       "      <td>3</td>\n",
       "      <td>3</td>\n",
       "      <td>2</td>\n",
       "      <td>2</td>\n",
       "      <td>1</td>\n",
       "      <td>5</td>\n",
       "      <td>9</td>\n",
       "      <td>11</td>\n",
       "      <td>11</td>\n",
       "      <td>51</td>\n",
       "    </tr>\n",
       "    <tr>\n",
       "      <th>341</th>\n",
       "      <td>GP</td>\n",
       "      <td>F</td>\n",
       "      <td>19</td>\n",
       "      <td>U</td>\n",
       "      <td>GT3</td>\n",
       "      <td>T</td>\n",
       "      <td>4</td>\n",
       "      <td>4</td>\n",
       "      <td>health</td>\n",
       "      <td>other</td>\n",
       "      <td>...</td>\n",
       "      <td>3</td>\n",
       "      <td>4</td>\n",
       "      <td>2</td>\n",
       "      <td>3</td>\n",
       "      <td>2</td>\n",
       "      <td>2</td>\n",
       "      <td>14</td>\n",
       "      <td>13</td>\n",
       "      <td>13</td>\n",
       "      <td>57</td>\n",
       "    </tr>\n",
       "    <tr>\n",
       "      <th>17</th>\n",
       "      <td>GP</td>\n",
       "      <td>F</td>\n",
       "      <td>16</td>\n",
       "      <td>U</td>\n",
       "      <td>GT3</td>\n",
       "      <td>T</td>\n",
       "      <td>3</td>\n",
       "      <td>3</td>\n",
       "      <td>other</td>\n",
       "      <td>other</td>\n",
       "      <td>...</td>\n",
       "      <td>3</td>\n",
       "      <td>2</td>\n",
       "      <td>1</td>\n",
       "      <td>1</td>\n",
       "      <td>4</td>\n",
       "      <td>2</td>\n",
       "      <td>13</td>\n",
       "      <td>14</td>\n",
       "      <td>14</td>\n",
       "      <td>75</td>\n",
       "    </tr>\n",
       "  </tbody>\n",
       "</table>\n",
       "<p>5 rows × 34 columns</p>\n",
       "</div>"
      ],
      "text/plain": [
       "    school sex  age address famsize Pstatus  Medu  Fedu      Mjob   Fjob  ...  \\\n",
       "202     GP   F   17       U     GT3       A     3     3    health  other  ...   \n",
       "135     GP   F   16       U     GT3       A     3     4  services  other  ...   \n",
       "540     MS   F   17       U     GT3       T     3     2   at_home  other  ...   \n",
       "341     GP   F   19       U     GT3       T     4     4    health  other  ...   \n",
       "17      GP   F   16       U     GT3       T     3     3     other  other  ...   \n",
       "\n",
       "    freetime goout  Dalc  Walc  health absences  G1  G2  G3  \\\n",
       "202        3     3     1     3       3       10  12  13  14   \n",
       "135        2     1     1     4       5       12  15  13  14   \n",
       "540        3     3     2     2       1        5   9  11  11   \n",
       "341        3     4     2     3       2        2  14  13  13   \n",
       "17         3     2     1     1       4        2  13  14  14   \n",
       "\n",
       "    Internal Student ID  \n",
       "202                   6  \n",
       "135                  28  \n",
       "540                  51  \n",
       "341                  57  \n",
       "17                   75  \n",
       "\n",
       "[5 rows x 34 columns]"
      ]
     },
     "execution_count": 8,
     "metadata": {},
     "output_type": "execute_result"
    }
   ],
   "source": [
    "students.sort_values(by=['Internal Student ID'], inplace=True)\n",
    "students.head()"
   ]
  },
  {
   "cell_type": "code",
   "execution_count": 9,
   "id": "c7055be2",
   "metadata": {
    "execution": {
     "iopub.execute_input": "2022-09-17T09:50:41.090280Z",
     "iopub.status.busy": "2022-09-17T09:50:41.089797Z",
     "iopub.status.idle": "2022-09-17T09:50:41.097585Z",
     "shell.execute_reply": "2022-09-17T09:50:41.096455Z"
    },
    "papermill": {
     "duration": 0.058617,
     "end_time": "2022-09-17T09:50:41.100233",
     "exception": false,
     "start_time": "2022-09-17T09:50:41.041616",
     "status": "completed"
    },
    "tags": []
   },
   "outputs": [
    {
     "name": "stdout",
     "output_type": "stream",
     "text": [
      "school                 0\n",
      "sex                    0\n",
      "age                    0\n",
      "address                0\n",
      "famsize                0\n",
      "Pstatus                0\n",
      "Medu                   0\n",
      "Fedu                   0\n",
      "Mjob                   0\n",
      "Fjob                   0\n",
      "reason                 0\n",
      "guardian               0\n",
      "traveltime             0\n",
      "studytime              0\n",
      "failures               0\n",
      "schoolsup              0\n",
      "famsup                 0\n",
      "paid                   0\n",
      "activities             0\n",
      "nursery                0\n",
      "higher                 0\n",
      "internet               0\n",
      "romantic               0\n",
      "famrel                 0\n",
      "freetime               0\n",
      "goout                  0\n",
      "Dalc                   0\n",
      "Walc                   0\n",
      "health                 0\n",
      "absences               0\n",
      "G1                     0\n",
      "G2                     0\n",
      "G3                     0\n",
      "Internal Student ID    0\n",
      "dtype: int64\n"
     ]
    }
   ],
   "source": [
    "##Data exploration look to see if there are null values in any columns\n",
    "##G1, G2, G3 ar the grading periods so we need values there and activities is the column\n",
    "## that indicates if a student is envolved in extra school activities\n",
    "print(students.isnull().sum())"
   ]
  },
  {
   "cell_type": "markdown",
   "id": "149c8873",
   "metadata": {
    "papermill": {
     "duration": 0.04656,
     "end_time": "2022-09-17T09:50:41.193662",
     "exception": false,
     "start_time": "2022-09-17T09:50:41.147102",
     "status": "completed"
    },
    "tags": []
   },
   "source": [
    "No columns contain null values"
   ]
  },
  {
   "cell_type": "code",
   "execution_count": 10,
   "id": "0fbf3a57",
   "metadata": {
    "execution": {
     "iopub.execute_input": "2022-09-17T09:50:41.292042Z",
     "iopub.status.busy": "2022-09-17T09:50:41.291449Z",
     "iopub.status.idle": "2022-09-17T09:50:41.306675Z",
     "shell.execute_reply": "2022-09-17T09:50:41.305951Z"
    },
    "papermill": {
     "duration": 0.067293,
     "end_time": "2022-09-17T09:50:41.308815",
     "exception": false,
     "start_time": "2022-09-17T09:50:41.241522",
     "status": "completed"
    },
    "tags": []
   },
   "outputs": [
    {
     "data": {
      "text/html": [
       "<div>\n",
       "<style scoped>\n",
       "    .dataframe tbody tr th:only-of-type {\n",
       "        vertical-align: middle;\n",
       "    }\n",
       "\n",
       "    .dataframe tbody tr th {\n",
       "        vertical-align: top;\n",
       "    }\n",
       "\n",
       "    .dataframe thead th {\n",
       "        text-align: right;\n",
       "    }\n",
       "</style>\n",
       "<table border=\"1\" class=\"dataframe\">\n",
       "  <thead>\n",
       "    <tr style=\"text-align: right;\">\n",
       "      <th></th>\n",
       "      <th>school</th>\n",
       "      <th>sex</th>\n",
       "      <th>age</th>\n",
       "      <th>absences</th>\n",
       "      <th>G1</th>\n",
       "      <th>G2</th>\n",
       "      <th>G3</th>\n",
       "      <th>Internal Student ID</th>\n",
       "    </tr>\n",
       "  </thead>\n",
       "  <tbody>\n",
       "    <tr>\n",
       "      <th>202</th>\n",
       "      <td>GP</td>\n",
       "      <td>F</td>\n",
       "      <td>17</td>\n",
       "      <td>10</td>\n",
       "      <td>12</td>\n",
       "      <td>13</td>\n",
       "      <td>14</td>\n",
       "      <td>6</td>\n",
       "    </tr>\n",
       "    <tr>\n",
       "      <th>135</th>\n",
       "      <td>GP</td>\n",
       "      <td>F</td>\n",
       "      <td>16</td>\n",
       "      <td>12</td>\n",
       "      <td>15</td>\n",
       "      <td>13</td>\n",
       "      <td>14</td>\n",
       "      <td>28</td>\n",
       "    </tr>\n",
       "    <tr>\n",
       "      <th>540</th>\n",
       "      <td>MS</td>\n",
       "      <td>F</td>\n",
       "      <td>17</td>\n",
       "      <td>5</td>\n",
       "      <td>9</td>\n",
       "      <td>11</td>\n",
       "      <td>11</td>\n",
       "      <td>51</td>\n",
       "    </tr>\n",
       "    <tr>\n",
       "      <th>341</th>\n",
       "      <td>GP</td>\n",
       "      <td>F</td>\n",
       "      <td>19</td>\n",
       "      <td>2</td>\n",
       "      <td>14</td>\n",
       "      <td>13</td>\n",
       "      <td>13</td>\n",
       "      <td>57</td>\n",
       "    </tr>\n",
       "    <tr>\n",
       "      <th>17</th>\n",
       "      <td>GP</td>\n",
       "      <td>F</td>\n",
       "      <td>16</td>\n",
       "      <td>2</td>\n",
       "      <td>13</td>\n",
       "      <td>14</td>\n",
       "      <td>14</td>\n",
       "      <td>75</td>\n",
       "    </tr>\n",
       "  </tbody>\n",
       "</table>\n",
       "</div>"
      ],
      "text/plain": [
       "    school sex  age  absences  G1  G2  G3  Internal Student ID\n",
       "202     GP   F   17        10  12  13  14                    6\n",
       "135     GP   F   16        12  15  13  14                   28\n",
       "540     MS   F   17         5   9  11  11                   51\n",
       "341     GP   F   19         2  14  13  13                   57\n",
       "17      GP   F   16         2  13  14  14                   75"
      ]
     },
     "execution_count": 10,
     "metadata": {},
     "output_type": "execute_result"
    }
   ],
   "source": [
    "students = students.drop(columns=['address','famsize','Pstatus','Medu','Fedu','Mjob','Fjob','reason','guardian','traveltime',\n",
    "                                  'studytime','failures','famrel','higher','paid','nursery','activities','health',\n",
    "                                  'Walc','Dalc','goout','freetime','romantic','internet','schoolsup','famsup'])\n",
    "students.head()"
   ]
  },
  {
   "cell_type": "code",
   "execution_count": 11,
   "id": "25709504",
   "metadata": {
    "execution": {
     "iopub.execute_input": "2022-09-17T09:50:41.407261Z",
     "iopub.status.busy": "2022-09-17T09:50:41.406793Z",
     "iopub.status.idle": "2022-09-17T09:50:41.411801Z",
     "shell.execute_reply": "2022-09-17T09:50:41.410891Z"
    },
    "papermill": {
     "duration": 0.056498,
     "end_time": "2022-09-17T09:50:41.413969",
     "exception": false,
     "start_time": "2022-09-17T09:50:41.357471",
     "status": "completed"
    },
    "tags": []
   },
   "outputs": [
    {
     "data": {
      "text/plain": [
       "(649, 8)"
      ]
     },
     "execution_count": 11,
     "metadata": {},
     "output_type": "execute_result"
    }
   ],
   "source": [
    "students.shape"
   ]
  },
  {
   "cell_type": "code",
   "execution_count": 12,
   "id": "66322872",
   "metadata": {
    "execution": {
     "iopub.execute_input": "2022-09-17T09:50:41.511348Z",
     "iopub.status.busy": "2022-09-17T09:50:41.511034Z",
     "iopub.status.idle": "2022-09-17T09:50:41.516713Z",
     "shell.execute_reply": "2022-09-17T09:50:41.516098Z"
    },
    "papermill": {
     "duration": 0.057131,
     "end_time": "2022-09-17T09:50:41.518600",
     "exception": false,
     "start_time": "2022-09-17T09:50:41.461469",
     "status": "completed"
    },
    "tags": []
   },
   "outputs": [
    {
     "data": {
      "text/plain": [
       "2"
      ]
     },
     "execution_count": 12,
     "metadata": {},
     "output_type": "execute_result"
    }
   ],
   "source": [
    "students.sex.nunique()"
   ]
  },
  {
   "cell_type": "code",
   "execution_count": 13,
   "id": "afdaff22",
   "metadata": {
    "execution": {
     "iopub.execute_input": "2022-09-17T09:50:41.616689Z",
     "iopub.status.busy": "2022-09-17T09:50:41.616217Z",
     "iopub.status.idle": "2022-09-17T09:50:41.623496Z",
     "shell.execute_reply": "2022-09-17T09:50:41.622513Z"
    },
    "papermill": {
     "duration": 0.058966,
     "end_time": "2022-09-17T09:50:41.625857",
     "exception": false,
     "start_time": "2022-09-17T09:50:41.566891",
     "status": "completed"
    },
    "tags": []
   },
   "outputs": [
    {
     "data": {
      "text/plain": [
       "array([17, 16, 19, 15, 18, 21, 20, 22])"
      ]
     },
     "execution_count": 13,
     "metadata": {},
     "output_type": "execute_result"
    }
   ],
   "source": [
    "students.age.unique()\n"
   ]
  },
  {
   "cell_type": "code",
   "execution_count": 14,
   "id": "35e397e3",
   "metadata": {
    "execution": {
     "iopub.execute_input": "2022-09-17T09:50:41.724845Z",
     "iopub.status.busy": "2022-09-17T09:50:41.724525Z",
     "iopub.status.idle": "2022-09-17T09:50:41.730753Z",
     "shell.execute_reply": "2022-09-17T09:50:41.729932Z"
    },
    "papermill": {
     "duration": 0.05855,
     "end_time": "2022-09-17T09:50:41.733072",
     "exception": false,
     "start_time": "2022-09-17T09:50:41.674522",
     "status": "completed"
    },
    "tags": []
   },
   "outputs": [
    {
     "data": {
      "text/plain": [
       "22"
      ]
     },
     "execution_count": 14,
     "metadata": {},
     "output_type": "execute_result"
    }
   ],
   "source": [
    "students.age.max()"
   ]
  },
  {
   "cell_type": "code",
   "execution_count": 15,
   "id": "fd9ce96b",
   "metadata": {
    "execution": {
     "iopub.execute_input": "2022-09-17T09:50:41.830259Z",
     "iopub.status.busy": "2022-09-17T09:50:41.829966Z",
     "iopub.status.idle": "2022-09-17T09:50:41.836630Z",
     "shell.execute_reply": "2022-09-17T09:50:41.835619Z"
    },
    "papermill": {
     "duration": 0.057977,
     "end_time": "2022-09-17T09:50:41.838828",
     "exception": false,
     "start_time": "2022-09-17T09:50:41.780851",
     "status": "completed"
    },
    "tags": []
   },
   "outputs": [
    {
     "data": {
      "text/plain": [
       "array(['GP', 'MS'], dtype=object)"
      ]
     },
     "execution_count": 15,
     "metadata": {},
     "output_type": "execute_result"
    }
   ],
   "source": [
    "students.school.unique()"
   ]
  },
  {
   "cell_type": "code",
   "execution_count": 16,
   "id": "03c8bddf",
   "metadata": {
    "execution": {
     "iopub.execute_input": "2022-09-17T09:50:41.939714Z",
     "iopub.status.busy": "2022-09-17T09:50:41.939311Z",
     "iopub.status.idle": "2022-09-17T09:50:41.972194Z",
     "shell.execute_reply": "2022-09-17T09:50:41.971176Z"
    },
    "papermill": {
     "duration": 0.086109,
     "end_time": "2022-09-17T09:50:41.974656",
     "exception": false,
     "start_time": "2022-09-17T09:50:41.888547",
     "status": "completed"
    },
    "tags": []
   },
   "outputs": [
    {
     "data": {
      "text/html": [
       "<div>\n",
       "<style scoped>\n",
       "    .dataframe tbody tr th:only-of-type {\n",
       "        vertical-align: middle;\n",
       "    }\n",
       "\n",
       "    .dataframe tbody tr th {\n",
       "        vertical-align: top;\n",
       "    }\n",
       "\n",
       "    .dataframe thead th {\n",
       "        text-align: right;\n",
       "    }\n",
       "</style>\n",
       "<table border=\"1\" class=\"dataframe\">\n",
       "  <thead>\n",
       "    <tr style=\"text-align: right;\">\n",
       "      <th></th>\n",
       "      <th>age</th>\n",
       "      <th>absences</th>\n",
       "      <th>G1</th>\n",
       "      <th>G2</th>\n",
       "      <th>G3</th>\n",
       "      <th>Internal Student ID</th>\n",
       "    </tr>\n",
       "  </thead>\n",
       "  <tbody>\n",
       "    <tr>\n",
       "      <th>count</th>\n",
       "      <td>649.000000</td>\n",
       "      <td>649.000000</td>\n",
       "      <td>649.000000</td>\n",
       "      <td>649.000000</td>\n",
       "      <td>649.000000</td>\n",
       "      <td>649.000000</td>\n",
       "    </tr>\n",
       "    <tr>\n",
       "      <th>mean</th>\n",
       "      <td>16.744222</td>\n",
       "      <td>3.659476</td>\n",
       "      <td>11.399076</td>\n",
       "      <td>11.570108</td>\n",
       "      <td>11.906009</td>\n",
       "      <td>4903.269646</td>\n",
       "    </tr>\n",
       "    <tr>\n",
       "      <th>std</th>\n",
       "      <td>1.218138</td>\n",
       "      <td>4.640759</td>\n",
       "      <td>2.745265</td>\n",
       "      <td>2.913639</td>\n",
       "      <td>3.230656</td>\n",
       "      <td>2950.570949</td>\n",
       "    </tr>\n",
       "    <tr>\n",
       "      <th>min</th>\n",
       "      <td>15.000000</td>\n",
       "      <td>0.000000</td>\n",
       "      <td>0.000000</td>\n",
       "      <td>0.000000</td>\n",
       "      <td>0.000000</td>\n",
       "      <td>6.000000</td>\n",
       "    </tr>\n",
       "    <tr>\n",
       "      <th>25%</th>\n",
       "      <td>16.000000</td>\n",
       "      <td>0.000000</td>\n",
       "      <td>10.000000</td>\n",
       "      <td>10.000000</td>\n",
       "      <td>10.000000</td>\n",
       "      <td>2234.000000</td>\n",
       "    </tr>\n",
       "    <tr>\n",
       "      <th>50%</th>\n",
       "      <td>17.000000</td>\n",
       "      <td>2.000000</td>\n",
       "      <td>11.000000</td>\n",
       "      <td>11.000000</td>\n",
       "      <td>12.000000</td>\n",
       "      <td>4920.000000</td>\n",
       "    </tr>\n",
       "    <tr>\n",
       "      <th>75%</th>\n",
       "      <td>18.000000</td>\n",
       "      <td>6.000000</td>\n",
       "      <td>13.000000</td>\n",
       "      <td>13.000000</td>\n",
       "      <td>14.000000</td>\n",
       "      <td>7473.000000</td>\n",
       "    </tr>\n",
       "    <tr>\n",
       "      <th>max</th>\n",
       "      <td>22.000000</td>\n",
       "      <td>32.000000</td>\n",
       "      <td>19.000000</td>\n",
       "      <td>19.000000</td>\n",
       "      <td>19.000000</td>\n",
       "      <td>9998.000000</td>\n",
       "    </tr>\n",
       "  </tbody>\n",
       "</table>\n",
       "</div>"
      ],
      "text/plain": [
       "              age    absences          G1          G2          G3  \\\n",
       "count  649.000000  649.000000  649.000000  649.000000  649.000000   \n",
       "mean    16.744222    3.659476   11.399076   11.570108   11.906009   \n",
       "std      1.218138    4.640759    2.745265    2.913639    3.230656   \n",
       "min     15.000000    0.000000    0.000000    0.000000    0.000000   \n",
       "25%     16.000000    0.000000   10.000000   10.000000   10.000000   \n",
       "50%     17.000000    2.000000   11.000000   11.000000   12.000000   \n",
       "75%     18.000000    6.000000   13.000000   13.000000   14.000000   \n",
       "max     22.000000   32.000000   19.000000   19.000000   19.000000   \n",
       "\n",
       "       Internal Student ID  \n",
       "count           649.000000  \n",
       "mean           4903.269646  \n",
       "std            2950.570949  \n",
       "min               6.000000  \n",
       "25%            2234.000000  \n",
       "50%            4920.000000  \n",
       "75%            7473.000000  \n",
       "max            9998.000000  "
      ]
     },
     "execution_count": 16,
     "metadata": {},
     "output_type": "execute_result"
    }
   ],
   "source": [
    "##Explore the stats pertaining to this data set.\n",
    "##The describe() function computes a summary of statistics pertaining to the DataFrame columns\n",
    "students.describe()"
   ]
  },
  {
   "cell_type": "markdown",
   "id": "4fe526c5",
   "metadata": {
    "papermill": {
     "duration": 0.048173,
     "end_time": "2022-09-17T09:50:42.072029",
     "exception": false,
     "start_time": "2022-09-17T09:50:42.023856",
     "status": "completed"
    },
    "tags": []
   },
   "source": [
    "**Exploration and Analysis of G3 Scores:**"
   ]
  },
  {
   "cell_type": "code",
   "execution_count": 17,
   "id": "4c8ca7de",
   "metadata": {
    "execution": {
     "iopub.execute_input": "2022-09-17T09:50:42.177387Z",
     "iopub.status.busy": "2022-09-17T09:50:42.176782Z",
     "iopub.status.idle": "2022-09-17T09:50:42.183115Z",
     "shell.execute_reply": "2022-09-17T09:50:42.182250Z"
    },
    "papermill": {
     "duration": 0.061236,
     "end_time": "2022-09-17T09:50:42.185373",
     "exception": false,
     "start_time": "2022-09-17T09:50:42.124137",
     "status": "completed"
    },
    "tags": []
   },
   "outputs": [
    {
     "data": {
      "text/plain": [
       "19"
      ]
     },
     "execution_count": 17,
     "metadata": {},
     "output_type": "execute_result"
    }
   ],
   "source": [
    "students.G3.max()"
   ]
  },
  {
   "cell_type": "code",
   "execution_count": 18,
   "id": "7f7bd3a6",
   "metadata": {
    "execution": {
     "iopub.execute_input": "2022-09-17T09:50:42.288737Z",
     "iopub.status.busy": "2022-09-17T09:50:42.288437Z",
     "iopub.status.idle": "2022-09-17T09:50:42.294771Z",
     "shell.execute_reply": "2022-09-17T09:50:42.293779Z"
    },
    "papermill": {
     "duration": 0.060752,
     "end_time": "2022-09-17T09:50:42.296978",
     "exception": false,
     "start_time": "2022-09-17T09:50:42.236226",
     "status": "completed"
    },
    "tags": []
   },
   "outputs": [
    {
     "data": {
      "text/plain": [
       "0"
      ]
     },
     "execution_count": 18,
     "metadata": {},
     "output_type": "execute_result"
    }
   ],
   "source": [
    "students.G3.min()"
   ]
  },
  {
   "cell_type": "code",
   "execution_count": 19,
   "id": "abee9a44",
   "metadata": {
    "execution": {
     "iopub.execute_input": "2022-09-17T09:50:42.401942Z",
     "iopub.status.busy": "2022-09-17T09:50:42.401624Z",
     "iopub.status.idle": "2022-09-17T09:50:42.407924Z",
     "shell.execute_reply": "2022-09-17T09:50:42.406998Z"
    },
    "papermill": {
     "duration": 0.06178,
     "end_time": "2022-09-17T09:50:42.410165",
     "exception": false,
     "start_time": "2022-09-17T09:50:42.348385",
     "status": "completed"
    },
    "tags": []
   },
   "outputs": [
    {
     "data": {
      "text/plain": [
       "11.906009244992296"
      ]
     },
     "execution_count": 19,
     "metadata": {},
     "output_type": "execute_result"
    }
   ],
   "source": [
    "students.G3.mean()"
   ]
  },
  {
   "cell_type": "markdown",
   "id": "36b8e4a8",
   "metadata": {
    "papermill": {
     "duration": 0.050758,
     "end_time": "2022-09-17T09:50:42.512069",
     "exception": false,
     "start_time": "2022-09-17T09:50:42.461311",
     "status": "completed"
    },
    "tags": []
   },
   "source": [
    "Chart of the count of students for each G3 score."
   ]
  },
  {
   "cell_type": "code",
   "execution_count": 20,
   "id": "0e16fda0",
   "metadata": {
    "execution": {
     "iopub.execute_input": "2022-09-17T09:50:42.616428Z",
     "iopub.status.busy": "2022-09-17T09:50:42.616098Z",
     "iopub.status.idle": "2022-09-17T09:50:42.890553Z",
     "shell.execute_reply": "2022-09-17T09:50:42.889463Z"
    },
    "papermill": {
     "duration": 0.329329,
     "end_time": "2022-09-17T09:50:42.893017",
     "exception": false,
     "start_time": "2022-09-17T09:50:42.563688",
     "status": "completed"
    },
    "tags": []
   },
   "outputs": [
    {
     "data": {
      "text/plain": [
       "<AxesSubplot:xlabel='G3', ylabel='count'>"
      ]
     },
     "execution_count": 20,
     "metadata": {},
     "output_type": "execute_result"
    },
    {
     "data": {
      "image/png": "[encoded data removed]",
      "text/plain": [
       "<Figure size 432x288 with 1 Axes>"
      ]
     },
     "metadata": {
      "needs_background": "light"
     },
     "output_type": "display_data"
    }
   ],
   "source": [
    "sns.countplot(x ='G3',data = students)"
   ]
  },
  {
   "cell_type": "code",
   "execution_count": 21,
   "id": "dd7bcf18",
   "metadata": {
    "execution": {
     "iopub.execute_input": "2022-09-17T09:50:42.998369Z",
     "iopub.status.busy": "2022-09-17T09:50:42.998048Z",
     "iopub.status.idle": "2022-09-17T09:50:43.006242Z",
     "shell.execute_reply": "2022-09-17T09:50:43.005520Z"
    },
    "papermill": {
     "duration": 0.062202,
     "end_time": "2022-09-17T09:50:43.008190",
     "exception": false,
     "start_time": "2022-09-17T09:50:42.945988",
     "status": "completed"
    },
    "tags": []
   },
   "outputs": [
    {
     "data": {
      "text/plain": [
       "11    104\n",
       "10     97\n",
       "13     82\n",
       "12     72\n",
       "14     63\n",
       "15     49\n",
       "16     36\n",
       "9      35\n",
       "8      35\n",
       "17     29\n",
       "0      15\n",
       "18     15\n",
       "7      10\n",
       "6       3\n",
       "19      2\n",
       "1       1\n",
       "5       1\n",
       "Name: G3, dtype: int64"
      ]
     },
     "execution_count": 21,
     "metadata": {},
     "output_type": "execute_result"
    }
   ],
   "source": [
    "##counts of frequency of scores for G3\n",
    "students['G3'].value_counts(ascending=False)"
   ]
  },
  {
   "cell_type": "markdown",
   "id": "76b3edb7",
   "metadata": {
    "papermill": {
     "duration": 0.051575,
     "end_time": "2022-09-17T09:50:43.111637",
     "exception": false,
     "start_time": "2022-09-17T09:50:43.060062",
     "status": "completed"
    },
    "tags": []
   },
   "source": [
    "Data Exploration and Analysis of Absences:"
   ]
  },
  {
   "cell_type": "code",
   "execution_count": 22,
   "id": "a2bef44c",
   "metadata": {
    "execution": {
     "iopub.execute_input": "2022-09-17T09:50:43.215485Z",
     "iopub.status.busy": "2022-09-17T09:50:43.214826Z",
     "iopub.status.idle": "2022-09-17T09:50:43.221506Z",
     "shell.execute_reply": "2022-09-17T09:50:43.220819Z"
    },
    "papermill": {
     "duration": 0.060805,
     "end_time": "2022-09-17T09:50:43.223767",
     "exception": false,
     "start_time": "2022-09-17T09:50:43.162962",
     "status": "completed"
    },
    "tags": []
   },
   "outputs": [
    {
     "data": {
      "text/plain": [
       "32"
      ]
     },
     "execution_count": 22,
     "metadata": {},
     "output_type": "execute_result"
    }
   ],
   "source": [
    "students.absences.max()"
   ]
  },
  {
   "cell_type": "code",
   "execution_count": 23,
   "id": "3a8a0520",
   "metadata": {
    "execution": {
     "iopub.execute_input": "2022-09-17T09:50:43.330833Z",
     "iopub.status.busy": "2022-09-17T09:50:43.330199Z",
     "iopub.status.idle": "2022-09-17T09:50:43.336415Z",
     "shell.execute_reply": "2022-09-17T09:50:43.335486Z"
    },
    "papermill": {
     "duration": 0.061524,
     "end_time": "2022-09-17T09:50:43.338623",
     "exception": false,
     "start_time": "2022-09-17T09:50:43.277099",
     "status": "completed"
    },
    "tags": []
   },
   "outputs": [
    {
     "data": {
      "text/plain": [
       "0"
      ]
     },
     "execution_count": 23,
     "metadata": {},
     "output_type": "execute_result"
    }
   ],
   "source": [
    "students.absences.min()"
   ]
  },
  {
   "cell_type": "code",
   "execution_count": 24,
   "id": "c40c8ef2",
   "metadata": {
    "execution": {
     "iopub.execute_input": "2022-09-17T09:50:43.446171Z",
     "iopub.status.busy": "2022-09-17T09:50:43.445269Z",
     "iopub.status.idle": "2022-09-17T09:50:43.452679Z",
     "shell.execute_reply": "2022-09-17T09:50:43.451990Z"
    },
    "papermill": {
     "duration": 0.064006,
     "end_time": "2022-09-17T09:50:43.454820",
     "exception": false,
     "start_time": "2022-09-17T09:50:43.390814",
     "status": "completed"
    },
    "tags": []
   },
   "outputs": [
    {
     "data": {
      "text/plain": [
       "0     244\n",
       "2     110\n",
       "4      93\n",
       "6      49\n",
       "8      42\n",
       "10     21\n",
       "12     12\n",
       "5      12\n",
       "1      12\n",
       "16     10\n",
       "14      8\n",
       "3       7\n",
       "9       7\n",
       "11      5\n",
       "7       3\n",
       "18      3\n",
       "22      2\n",
       "21      2\n",
       "15      2\n",
       "24      1\n",
       "30      1\n",
       "32      1\n",
       "13      1\n",
       "26      1\n",
       "Name: absences, dtype: int64"
      ]
     },
     "execution_count": 24,
     "metadata": {},
     "output_type": "execute_result"
    }
   ],
   "source": [
    "students['absences'].value_counts()"
   ]
  },
  {
   "cell_type": "code",
   "execution_count": 25,
   "id": "3bce8024",
   "metadata": {
    "execution": {
     "iopub.execute_input": "2022-09-17T09:50:43.563969Z",
     "iopub.status.busy": "2022-09-17T09:50:43.563634Z",
     "iopub.status.idle": "2022-09-17T09:50:43.837159Z",
     "shell.execute_reply": "2022-09-17T09:50:43.836013Z"
    },
    "papermill": {
     "duration": 0.331063,
     "end_time": "2022-09-17T09:50:43.839872",
     "exception": false,
     "start_time": "2022-09-17T09:50:43.508809",
     "status": "completed"
    },
    "tags": []
   },
   "outputs": [
    {
     "data": {
      "text/plain": [
       "<AxesSubplot:xlabel='count', ylabel='absences'>"
      ]
     },
     "execution_count": 25,
     "metadata": {},
     "output_type": "execute_result"
    },
    {
     "data": {
      "image/png": "[encoded data removed]",
      "text/plain": [
       "<Figure size 432x288 with 1 Axes>"
      ]
     },
     "metadata": {
      "needs_background": "light"
     },
     "output_type": "display_data"
    }
   ],
   "source": [
    "sns.countplot(y ='absences', data = students, palette = \"gist_rainbow_r\")"
   ]
  },
  {
   "cell_type": "code",
   "execution_count": 26,
   "id": "29e09a7b",
   "metadata": {
    "execution": {
     "iopub.execute_input": "2022-09-17T09:50:43.954254Z",
     "iopub.status.busy": "2022-09-17T09:50:43.953540Z",
     "iopub.status.idle": "2022-09-17T09:50:43.959842Z",
     "shell.execute_reply": "2022-09-17T09:50:43.958726Z"
    },
    "papermill": {
     "duration": 0.065411,
     "end_time": "2022-09-17T09:50:43.961833",
     "exception": false,
     "start_time": "2022-09-17T09:50:43.896422",
     "status": "completed"
    },
    "tags": []
   },
   "outputs": [
    {
     "name": "stdout",
     "output_type": "stream",
     "text": [
      "Absences Mean = 3.6594761171032357\n"
     ]
    }
   ],
   "source": [
    "absences_mean = students['absences'].mean()\n",
    "print('Absences Mean =', absences_mean)\n",
    "##Mean number of absences is 3.7"
   ]
  },
  {
   "cell_type": "markdown",
   "id": "c872f69b",
   "metadata": {
    "papermill": {
     "duration": 0.053077,
     "end_time": "2022-09-17T09:50:44.068525",
     "exception": false,
     "start_time": "2022-09-17T09:50:44.015448",
     "status": "completed"
    },
    "tags": []
   },
   "source": [
    "**Analysis of Absences vs. G3 Scores:**"
   ]
  },
  {
   "cell_type": "code",
   "execution_count": 27,
   "id": "2a9626b2",
   "metadata": {
    "execution": {
     "iopub.execute_input": "2022-09-17T09:50:44.180003Z",
     "iopub.status.busy": "2022-09-17T09:50:44.178871Z",
     "iopub.status.idle": "2022-09-17T09:50:44.421890Z",
     "shell.execute_reply": "2022-09-17T09:50:44.420685Z"
    },
    "papermill": {
     "duration": 0.299836,
     "end_time": "2022-09-17T09:50:44.424220",
     "exception": false,
     "start_time": "2022-09-17T09:50:44.124384",
     "status": "completed"
    },
    "tags": []
   },
   "outputs": [
    {
     "data": {
      "text/plain": [
       "Text(0, 0.5, 'G3 Score')"
      ]
     },
     "execution_count": 27,
     "metadata": {},
     "output_type": "execute_result"
    },
    {
     "data": {
      "image/png": "[encoded data removed]",
      "text/plain": [
       "<Figure size 432x288 with 1 Axes>"
      ]
     },
     "metadata": {
      "needs_background": "light"
     },
     "output_type": "display_data"
    }
   ],
   "source": [
    "#create scatterplot of absences vs. score\n",
    "plt.scatter(students.absences, students.G3)\n",
    "plt.title('Absences vs. G3 Score')\n",
    "plt.xlabel('Absences')\n",
    "plt.ylabel('G3 Score')\n",
    "\n"
   ]
  },
  {
   "cell_type": "code",
   "execution_count": 28,
   "id": "072cea7f",
   "metadata": {
    "execution": {
     "iopub.execute_input": "2022-09-17T09:50:44.537656Z",
     "iopub.status.busy": "2022-09-17T09:50:44.537345Z",
     "iopub.status.idle": "2022-09-17T09:50:44.544656Z",
     "shell.execute_reply": "2022-09-17T09:50:44.543862Z"
    },
    "papermill": {
     "duration": 0.066186,
     "end_time": "2022-09-17T09:50:44.547108",
     "exception": false,
     "start_time": "2022-09-17T09:50:44.480922",
     "status": "completed"
    },
    "tags": []
   },
   "outputs": [
    {
     "name": "stdout",
     "output_type": "stream",
     "text": [
      "-0.0636133725828013\n"
     ]
    }
   ],
   "source": [
    "##m = slope\n",
    "m, b = np.polyfit(students.absences, students.G3, 1)\n",
    "print(m)"
   ]
  },
  {
   "cell_type": "code",
   "execution_count": 29,
   "id": "a967405b",
   "metadata": {
    "execution": {
     "iopub.execute_input": "2022-09-17T09:50:44.660276Z",
     "iopub.status.busy": "2022-09-17T09:50:44.659559Z",
     "iopub.status.idle": "2022-09-17T09:50:44.664731Z",
     "shell.execute_reply": "2022-09-17T09:50:44.663577Z"
    },
    "papermill": {
     "duration": 0.063836,
     "end_time": "2022-09-17T09:50:44.667027",
     "exception": false,
     "start_time": "2022-09-17T09:50:44.603191",
     "status": "completed"
    },
    "tags": []
   },
   "outputs": [
    {
     "name": "stdout",
     "output_type": "stream",
     "text": [
      "12.138800862687447\n"
     ]
    }
   ],
   "source": [
    "##b=intercept\n",
    "print(b)"
   ]
  },
  {
   "cell_type": "code",
   "execution_count": 30,
   "id": "364dfec1",
   "metadata": {
    "execution": {
     "iopub.execute_input": "2022-09-17T09:50:44.780459Z",
     "iopub.status.busy": "2022-09-17T09:50:44.779692Z",
     "iopub.status.idle": "2022-09-17T09:50:44.993826Z",
     "shell.execute_reply": "2022-09-17T09:50:44.993099Z"
    },
    "papermill": {
     "duration": 0.273288,
     "end_time": "2022-09-17T09:50:44.996004",
     "exception": false,
     "start_time": "2022-09-17T09:50:44.722716",
     "status": "completed"
    },
    "tags": []
   },
   "outputs": [
    {
     "data": {
      "text/plain": [
       "Text(0, 0.5, 'G3 Score')"
      ]
     },
     "execution_count": 30,
     "metadata": {},
     "output_type": "execute_result"
    },
    {
     "data": {
      "image/png": "[encoded data removed]",
      "text/plain": [
       "<Figure size 432x288 with 1 Axes>"
      ]
     },
     "metadata": {
      "needs_background": "light"
     },
     "output_type": "display_data"
    }
   ],
   "source": [
    "plt.plot(students.absences, students.G3, 'o')\n",
    "plt.plot(students.absences, m*students.absences + b)\n",
    "plt.xlabel('Absences')\n",
    "plt.ylabel('G3 Score')"
   ]
  },
  {
   "cell_type": "code",
   "execution_count": 31,
   "id": "52b9b54f",
   "metadata": {
    "execution": {
     "iopub.execute_input": "2022-09-17T09:50:45.114399Z",
     "iopub.status.busy": "2022-09-17T09:50:45.113296Z",
     "iopub.status.idle": "2022-09-17T09:50:45.124197Z",
     "shell.execute_reply": "2022-09-17T09:50:45.123155Z"
    },
    "papermill": {
     "duration": 0.072209,
     "end_time": "2022-09-17T09:50:45.126343",
     "exception": false,
     "start_time": "2022-09-17T09:50:45.054134",
     "status": "completed"
    },
    "tags": []
   },
   "outputs": [
    {
     "name": "stdout",
     "output_type": "stream",
     "text": [
      "                          age  absences        G1        G2        G3  \\\n",
      "age                  1.000000  0.149998 -0.174322 -0.107119 -0.106505   \n",
      "absences             0.149998  1.000000 -0.147149 -0.124745 -0.091379   \n",
      "G1                  -0.174322 -0.147149  1.000000  0.864982  0.826387   \n",
      "G2                  -0.107119 -0.124745  0.864982  1.000000  0.918548   \n",
      "G3                  -0.106505 -0.091379  0.826387  0.918548  1.000000   \n",
      "Internal Student ID  0.047371  0.038296  0.022453  0.030593  0.044148   \n",
      "\n",
      "                     Internal Student ID  \n",
      "age                             0.047371  \n",
      "absences                        0.038296  \n",
      "G1                              0.022453  \n",
      "G2                              0.030593  \n",
      "G3                              0.044148  \n",
      "Internal Student ID             1.000000  \n"
     ]
    }
   ],
   "source": [
    "correlation_students = students.corr()\n",
    "##calculate all correlations in df\n",
    "\n",
    "print(correlation_students)\n"
   ]
  },
  {
   "cell_type": "code",
   "execution_count": 32,
   "id": "09de3828",
   "metadata": {
    "execution": {
     "iopub.execute_input": "2022-09-17T09:50:45.242909Z",
     "iopub.status.busy": "2022-09-17T09:50:45.242362Z",
     "iopub.status.idle": "2022-09-17T09:50:45.742046Z",
     "shell.execute_reply": "2022-09-17T09:50:45.740701Z"
    },
    "papermill": {
     "duration": 0.560848,
     "end_time": "2022-09-17T09:50:45.744876",
     "exception": false,
     "start_time": "2022-09-17T09:50:45.184028",
     "status": "completed"
    },
    "tags": []
   },
   "outputs": [
    {
     "data": {
      "image/png": "[encoded data removed]",
      "text/plain": [
       "<Figure size 1152x432 with 2 Axes>"
      ]
     },
     "metadata": {
      "needs_background": "light"
     },
     "output_type": "display_data"
    }
   ],
   "source": [
    "# Increase the size of the heatmap.\n",
    "plt.figure(figsize=(16, 6))\n",
    "# Store heatmap object in a variable to easily access it when you want to include more features (such as title).\n",
    "# Set the range of values to be displayed on the colormap from -1 to 1, and set the annotation to True to display the correlation values on the heatmap.\n",
    "heatmap = sns.heatmap(students.corr(), vmin=-1, vmax=1, annot=True)\n",
    "# Give a title to the heatmap. Pad defines the distance of the title from the top of the heatmap.\n",
    "heatmap.set_title('Correlation Heatmap', fontdict={'fontsize':12}, pad=12);"
   ]
  },
  {
   "cell_type": "code",
   "execution_count": 33,
   "id": "96abeaff",
   "metadata": {
    "execution": {
     "iopub.execute_input": "2022-09-17T09:50:45.867750Z",
     "iopub.status.busy": "2022-09-17T09:50:45.867452Z",
     "iopub.status.idle": "2022-09-17T09:50:45.871627Z",
     "shell.execute_reply": "2022-09-17T09:50:45.870881Z"
    },
    "papermill": {
     "duration": 0.066876,
     "end_time": "2022-09-17T09:50:45.873602",
     "exception": false,
     "start_time": "2022-09-17T09:50:45.806726",
     "status": "completed"
    },
    "tags": []
   },
   "outputs": [],
   "source": [
    "from scipy import stats\n",
    "import scipy.stats\n"
   ]
  },
  {
   "cell_type": "code",
   "execution_count": 34,
   "id": "234a4386",
   "metadata": {
    "execution": {
     "iopub.execute_input": "2022-09-17T09:50:45.992634Z",
     "iopub.status.busy": "2022-09-17T09:50:45.992141Z",
     "iopub.status.idle": "2022-09-17T09:50:45.998572Z",
     "shell.execute_reply": "2022-09-17T09:50:45.997532Z"
    },
    "papermill": {
     "duration": 0.068393,
     "end_time": "2022-09-17T09:50:46.000894",
     "exception": false,
     "start_time": "2022-09-17T09:50:45.932501",
     "status": "completed"
    },
    "tags": []
   },
   "outputs": [
    {
     "name": "stdout",
     "output_type": "stream",
     "text": [
      "r: -0.09137905643875621\n",
      "P value: 0.01989562393916793\n"
     ]
    }
   ],
   "source": [
    "##https://docs.scipy.org/doc/scipy/reference/generated/scipy.stats.pearsonr.html\n",
    "##Pearson correlation coefficient and p-value for testing non-correlation.\n",
    "##2 tailed test, assumption is normal distribution\n",
    "## returns r and p-value\n",
    "\n",
    "r, p = stats.pearsonr(students.absences, students.G3)\n",
    "print('r:',r)\n",
    "print('P value:', p)"
   ]
  },
  {
   "cell_type": "code",
   "execution_count": 35,
   "id": "27d63f9e",
   "metadata": {
    "execution": {
     "iopub.execute_input": "2022-09-17T09:50:46.122211Z",
     "iopub.status.busy": "2022-09-17T09:50:46.121876Z",
     "iopub.status.idle": "2022-09-17T09:50:46.128003Z",
     "shell.execute_reply": "2022-09-17T09:50:46.126984Z"
    },
    "papermill": {
     "duration": 0.069265,
     "end_time": "2022-09-17T09:50:46.130751",
     "exception": false,
     "start_time": "2022-09-17T09:50:46.061486",
     "status": "completed"
    },
    "tags": []
   },
   "outputs": [
    {
     "name": "stdout",
     "output_type": "stream",
     "text": [
      "P value is < 0.05. The result is SIGNIFICANT\n"
     ]
    }
   ],
   "source": [
    "x_threshold = 0.05\n",
    "if p < 0.05:\n",
    "    print('P value is < 0.05. The result is SIGNIFICANT')\n",
    "     \n",
    "else:\n",
    "    print('P values is > 0.05, The result is not siginificant')"
   ]
  },
  {
   "cell_type": "code",
   "execution_count": 36,
   "id": "448d04e0",
   "metadata": {
    "execution": {
     "iopub.execute_input": "2022-09-17T09:50:46.252808Z",
     "iopub.status.busy": "2022-09-17T09:50:46.252329Z",
     "iopub.status.idle": "2022-09-17T09:50:46.261411Z",
     "shell.execute_reply": "2022-09-17T09:50:46.260230Z"
    },
    "papermill": {
     "duration": 0.072716,
     "end_time": "2022-09-17T09:50:46.263575",
     "exception": false,
     "start_time": "2022-09-17T09:50:46.190859",
     "status": "completed"
    },
    "tags": []
   },
   "outputs": [
    {
     "name": "stdout",
     "output_type": "stream",
     "text": [
      "R: -0.09137905643875614\n",
      "T:  -2.33410092340771\n"
     ]
    }
   ],
   "source": [
    "##convert G3 and absences into numpy arrays\n",
    "G3_x = students['G3'].to_numpy()\n",
    "A_y = students['absences'].to_numpy()\n",
    "\n",
    "##degrees of freedom = sample size - number of pararmeters or relationhips\n",
    "df = len(G3_x) - 2\n",
    "\n",
    "##r = correlation coeff\n",
    "r = students['G3'].corr(students['absences'])\n",
    "print('R:', r)\n",
    "\n",
    "##t = t value\n",
    "t = r * np.sqrt(df/(1- r**2))\n",
    "print('T: ', t)\n"
   ]
  },
  {
   "cell_type": "markdown",
   "id": "95ceb9a6",
   "metadata": {
    "papermill": {
     "duration": 0.060337,
     "end_time": "2022-09-17T09:50:46.386669",
     "exception": false,
     "start_time": "2022-09-17T09:50:46.326332",
     "status": "completed"
    },
    "tags": []
   },
   "source": [
    "Doubled Checked with P Value Online Calculator at \n",
    "https://www.statology.org/t-score-p-value-calculator/\n",
    "Returns 0.01990, which matches the P Value from the pearsonr(). "
   ]
  },
  {
   "cell_type": "markdown",
   "id": "05609b15",
   "metadata": {
    "papermill": {
     "duration": 0.06043,
     "end_time": "2022-09-17T09:50:46.506662",
     "exception": false,
     "start_time": "2022-09-17T09:50:46.446232",
     "status": "completed"
    },
    "tags": []
   },
   "source": [
    "Grouping Students with similar attendnace rates:"
   ]
  },
  {
   "cell_type": "code",
   "execution_count": 37,
   "id": "821ba27c",
   "metadata": {
    "execution": {
     "iopub.execute_input": "2022-09-17T09:50:46.631634Z",
     "iopub.status.busy": "2022-09-17T09:50:46.631330Z",
     "iopub.status.idle": "2022-09-17T09:50:46.649832Z",
     "shell.execute_reply": "2022-09-17T09:50:46.649098Z"
    },
    "papermill": {
     "duration": 0.084299,
     "end_time": "2022-09-17T09:50:46.652041",
     "exception": false,
     "start_time": "2022-09-17T09:50:46.567742",
     "status": "completed"
    },
    "tags": []
   },
   "outputs": [
    {
     "name": "stdout",
     "output_type": "stream",
     "text": [
      "                 G3        \n",
      "               mean min max\n",
      "absences                   \n",
      "0         12.040984   0  19\n",
      "1         12.416667  10  16\n",
      "2         12.190909   6  18\n",
      "3         10.428571   7  17\n",
      "4         12.010753   6  19\n",
      "5         11.750000   8  17\n",
      "6         12.122449   8  17\n",
      "7         13.000000   8  16\n",
      "8         11.619048   7  16\n",
      "9          9.714286   7  15\n",
      "10        12.238095   8  18\n",
      "11        11.200000  10  12\n",
      "12        10.083333   5  14\n",
      "13        14.000000  14  14\n",
      "14        10.375000   7  17\n",
      "15        11.000000  10  12\n",
      "16        10.300000   8  12\n",
      "18        12.333333  10  14\n",
      "21        11.500000  10  13\n",
      "22         8.000000   6  10\n",
      "24         9.000000   9   9\n",
      "26         8.000000   8   8\n",
      "30        16.000000  16  16\n",
      "32        14.000000  14  14\n"
     ]
    }
   ],
   "source": [
    "grouped_absence = students.groupby('absences').agg({'G3': ['mean', 'min', 'max']})\n",
    "print(grouped_absence)"
   ]
  },
  {
   "cell_type": "code",
   "execution_count": 38,
   "id": "84439ef8",
   "metadata": {
    "execution": {
     "iopub.execute_input": "2022-09-17T09:50:46.774156Z",
     "iopub.status.busy": "2022-09-17T09:50:46.773595Z",
     "iopub.status.idle": "2022-09-17T09:50:47.622673Z",
     "shell.execute_reply": "2022-09-17T09:50:47.621734Z"
    },
    "papermill": {
     "duration": 0.912872,
     "end_time": "2022-09-17T09:50:47.624997",
     "exception": false,
     "start_time": "2022-09-17T09:50:46.712125",
     "status": "completed"
    },
    "tags": []
   },
   "outputs": [
    {
     "data": {
      "text/plain": [
       "Text(0.5, 0, 'Absences')"
      ]
     },
     "execution_count": 38,
     "metadata": {},
     "output_type": "execute_result"
    },
    {
     "data": {
      "image/png": "[encoded data removed]",
      "text/plain": [
       "<Figure size 1800x720 with 1 Axes>"
      ]
     },
     "metadata": {
      "needs_background": "light"
     },
     "output_type": "display_data"
    }
   ],
   "source": [
    "plt.figure(figsize=(25,10))\n",
    "sns.boxplot(x = 'absences', y = 'G3', data = students, saturation=1)\n",
    "plt.legend()\n",
    "plt.ylabel('G3')\n",
    "plt.xlabel('Absences')\n",
    "\n",
    "##“minimum”, first quartile [Q1], median, third quartile [Q3] and “maximum”"
   ]
  },
  {
   "cell_type": "code",
   "execution_count": 39,
   "id": "77c8b7cc",
   "metadata": {
    "execution": {
     "iopub.execute_input": "2022-09-17T09:50:47.752990Z",
     "iopub.status.busy": "2022-09-17T09:50:47.752647Z",
     "iopub.status.idle": "2022-09-17T09:50:47.763596Z",
     "shell.execute_reply": "2022-09-17T09:50:47.762308Z"
    },
    "papermill": {
     "duration": 0.077812,
     "end_time": "2022-09-17T09:50:47.765783",
     "exception": false,
     "start_time": "2022-09-17T09:50:47.687971",
     "status": "completed"
    },
    "tags": []
   },
   "outputs": [
    {
     "name": "stdout",
     "output_type": "stream",
     "text": [
      "                 G3\n",
      "               mean\n",
      "absences           \n",
      "0         12.040984\n",
      "1         12.416667\n",
      "2         12.190909\n",
      "3         10.428571\n",
      "4         12.010753\n",
      "5         11.750000\n",
      "6         12.122449\n",
      "7         13.000000\n",
      "8         11.619048\n",
      "9          9.714286\n",
      "10        12.238095\n",
      "11        11.200000\n",
      "12        10.083333\n",
      "13        14.000000\n",
      "14        10.375000\n",
      "15        11.000000\n",
      "16        10.300000\n",
      "18        12.333333\n",
      "21        11.500000\n",
      "22         8.000000\n",
      "24         9.000000\n",
      "26         8.000000\n",
      "30        16.000000\n",
      "32        14.000000\n"
     ]
    }
   ],
   "source": [
    "grouped_absence_mean = students.groupby('absences').agg({'G3': ['mean']})\n",
    "print(grouped_absence_mean)"
   ]
  },
  {
   "cell_type": "code",
   "execution_count": 40,
   "id": "d3cf5b62",
   "metadata": {
    "execution": {
     "iopub.execute_input": "2022-09-17T09:50:47.893148Z",
     "iopub.status.busy": "2022-09-17T09:50:47.892606Z",
     "iopub.status.idle": "2022-09-17T09:50:48.084220Z",
     "shell.execute_reply": "2022-09-17T09:50:48.083084Z"
    },
    "papermill": {
     "duration": 0.257433,
     "end_time": "2022-09-17T09:50:48.086375",
     "exception": false,
     "start_time": "2022-09-17T09:50:47.828942",
     "status": "completed"
    },
    "tags": []
   },
   "outputs": [
    {
     "data": {
      "image/png": "[encoded data removed]",
      "text/plain": [
       "<Figure size 432x288 with 1 Axes>"
      ]
     },
     "metadata": {
      "needs_background": "light"
     },
     "output_type": "display_data"
    }
   ],
   "source": [
    "plt.plot(grouped_absence_mean, color = 'deepskyblue', marker='o')\n",
    "plt.title('G3 Mean by Absence Count')\n",
    "plt.xlabel('Absences')\n",
    "plt.ylabel('G3 Mean')\n",
    "plt.show()"
   ]
  }
 ],
 "metadata": {
  "kernelspec": {
   "display_name": "Python 3",
   "language": "python",
   "name": "python3"
  },
  "language_info": {
   "codemirror_mode": {
    "name": "ipython",
    "version": 3
   },
   "file_extension": ".py",
   "mimetype": "text/x-python",
   "name": "python",
   "nbconvert_exporter": "python",
   "pygments_lexer": "ipython3",
   "version": "3.7.12"
  },
  "papermill": {
   "default_parameters": {},
   "duration": 20.209292,
   "end_time": "2022-09-17T09:50:48.973401",
   "environment_variables": {},
   "exception": null,
   "input_path": "__notebook__.ipynb",
   "output_path": "__notebook__.ipynb",
   "parameters": {},
   "start_time": "2022-09-17T09:50:28.764109",
   "version": "2.3.4"
  }
 },
 "nbformat": 4,
 "nbformat_minor": 5
}
